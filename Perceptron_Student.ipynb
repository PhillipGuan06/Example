{
  "cells": [
    {
      "cell_type": "markdown",
      "metadata": {
        "id": "view-in-github",
        "colab_type": "text"
      },
      "source": [
        "<a href=\"https://colab.research.google.com/github/PhillipGuan06/Example/blob/main/Perceptron_Student.ipynb\" target=\"_parent\"><img src=\"https://colab.research.google.com/assets/colab-badge.svg\" alt=\"Open In Colab\"/></a>"
      ]
    },
    {
      "cell_type": "markdown",
      "metadata": {
        "id": "FjIwWk2j-5hK"
      },
      "source": [
        "# The Perceptron\n",
        "\n",
        "In this notebook you will create a simple Perceptron from scratch. The Perceptron will:\n",
        "- Take in a number of inputs at initialization\n",
        "- Be able to feed forward a given input to get the output value\n",
        "- Be able to take in input and expected output data to trian to the model\n",
        "\n",
        "\n",
        "## !!! BEFORE YOU DO ANYTHING, BE SURE TO MAKE A COPY OF THIS NOTEBOOK SO YOU DON'T LOSE YOUR WORK !!!\n",
        "\n",
        "File > Save a Copy in Drive\n"
      ]
    },
    {
      "cell_type": "code",
      "execution_count": null,
      "metadata": {
        "colab": {
          "background_save": true
        },
        "id": "UlLAfxuJ-7AB"
      },
      "outputs": [],
      "source": [
        "import numpy as np\n",
        "from math import exp\n",
        "from sklearn.model_selection import train_test_split\n",
        "\n",
        "class Perceptron:\n",
        "\n",
        "  def __init__(self, num_inputs):\n",
        "    \"\"\"\n",
        "    Set self.num_inputs to be the num_inputs parameter and set\n",
        "    self.weights to be a random vector of weights with dimensions (num_inputs, 1) as it is a horizontal vector\n",
        "    np.random.rand() can be helpful for this, feel free to look up documentation online\n",
        "    \"\"\"\n",
        "    self.num_inputs = None\n",
        "    self.weights = None\n",
        "\n",
        "  def feed_forward(self, inputs):\n",
        "    \"\"\"\n",
        "    Return the result output of the Perceptron. Recall that this is just the weighted sum\n",
        "    of all the inputs and their respective weights. There are many ways to do this,\n",
        "    on of the easiest is with a dot product, you can use np.dot(), but be sure inputs come before weights if you\n",
        "    choose to use a dot product.\n",
        "    \"\"\"\n",
        "    return None\n",
        "\n",
        "  def train(self, xs, ys):\n",
        "    \"\"\"\n",
        "    Given two corresponding lists of inputs and their expected outputs from training data,\n",
        "    use the training method discussed to adjust the weights of the model based on the error between the\n",
        "    Perceptron prediction and expected outputs. You can use np.subtract() to subtract the product of the\n",
        "    error and the inputs form the weights.\n",
        "    \"\"\"\n",
        "\n",
        "\n",
        "# THE SIGMOID FUNCTION IS PROVIDED FOR YOU, NO NEED TO ADJUST THIS\n",
        "def sigmoid(x):\n",
        "  return 1/(1+np.exp(-x))\n"
      ]
    },
    {
      "cell_type": "markdown",
      "metadata": {
        "id": "anOiMm0a59DQ"
      },
      "source": [
        "Once you have completed your Percepton model, you can run this below cell to test it. It initializes your Perceptron, creates a simple x-y dataset where points above the line y = 0.5x are classified as 1 and points below or on the line are classified as 0."
      ]
    },
    {
      "cell_type": "code",
      "execution_count": null,
      "metadata": {
        "colab": {
          "background_save": true
        },
        "id": "RORZJykkBrTX",
        "outputId": "fd74b1f9-f943-4a08-a5dd-a4c8020f2b67"
      },
      "outputs": [
        {
          "name": "stdout",
          "output_type": "stream",
          "text": [
            "None\n"
          ]
        }
      ],
      "source": [
        "# Initialize your Perceptron\n",
        "p = Perceptron(2)\n",
        "\n",
        "# Create linearly separable dataset\n",
        "\n",
        "X = []\n",
        "y = []\n",
        "\n",
        "for a in range(0, 1000):\n",
        "  for b in range(0, 1000):\n",
        "    X.append(np.array([a/1000, b/1000]).reshape((1,2)))\n",
        "    if b > 0.5 * a:\n",
        "      y.append(1)\n",
        "    else:\n",
        "      y.append(0)\n",
        "\n",
        "X_train, X_test, y_train, y_test = train_test_split(X, y, test_size=0.33, random_state=42)\n",
        "\n",
        "# Train the Perceptron on the dataset\n",
        "p.train(X_train, y_train)\n",
        "\n",
        "# Feedforward a test value, it should return 0 or near 0\n",
        "print(p.feed_forward(np.array([0.8, 0.3]).reshape((2,1))))"
      ]
    }
  ],
  "metadata": {
    "colab": {
      "provenance": [],
      "include_colab_link": true
    },
    "kernelspec": {
      "display_name": "Python 3",
      "name": "python3"
    },
    "language_info": {
      "name": "python"
    }
  },
  "nbformat": 4,
  "nbformat_minor": 0
}